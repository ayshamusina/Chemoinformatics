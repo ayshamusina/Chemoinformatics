{
 "cells": [
  {
   "cell_type": "code",
   "execution_count": 2,
   "id": "3cc769bf",
   "metadata": {},
   "outputs": [
    {
     "name": "stdout",
     "output_type": "stream",
     "text": [
      "Collecting deepchem\n",
      "  Downloading deepchem-2.5.0-py3-none-any.whl (552 kB)\n",
      "\u001b[K     |████████████████████████████████| 552 kB 1.9 MB/s eta 0:00:01\n",
      "\u001b[?25hRequirement already satisfied: pandas in ./opt/anaconda3/lib/python3.8/site-packages (from deepchem) (1.2.4)\n",
      "Requirement already satisfied: joblib in ./opt/anaconda3/lib/python3.8/site-packages (from deepchem) (1.0.1)\n",
      "Requirement already satisfied: scikit-learn in ./opt/anaconda3/lib/python3.8/site-packages (from deepchem) (0.24.1)\n",
      "Requirement already satisfied: scipy in ./opt/anaconda3/lib/python3.8/site-packages (from deepchem) (1.6.2)\n",
      "Requirement already satisfied: numpy in ./opt/anaconda3/lib/python3.8/site-packages (from deepchem) (1.19.5)\n",
      "Requirement already satisfied: python-dateutil>=2.7.3 in ./opt/anaconda3/lib/python3.8/site-packages (from pandas->deepchem) (2.8.1)\n",
      "Requirement already satisfied: pytz>=2017.3 in ./opt/anaconda3/lib/python3.8/site-packages (from pandas->deepchem) (2021.1)\n",
      "Requirement already satisfied: six>=1.5 in ./opt/anaconda3/lib/python3.8/site-packages (from python-dateutil>=2.7.3->pandas->deepchem) (1.15.0)\n",
      "Requirement already satisfied: threadpoolctl>=2.0.0 in ./opt/anaconda3/lib/python3.8/site-packages (from scikit-learn->deepchem) (2.1.0)\n",
      "Installing collected packages: deepchem\n",
      "Successfully installed deepchem-2.5.0\n",
      "Note: you may need to restart the kernel to use updated packages.\n"
     ]
    }
   ],
   "source": [
    "pip install deepchem"
   ]
  },
  {
   "cell_type": "markdown",
   "id": "faf9a7e7",
   "metadata": {},
   "source": [
    "# Datasets "
   ]
  },
  {
   "cell_type": "code",
   "execution_count": 8,
   "id": "8b9a2394",
   "metadata": {},
   "outputs": [
    {
     "name": "stdout",
     "output_type": "stream",
     "text": [
      "<NumpyDataset X.shape: (500, 5), y.shape: (500, 1), w.shape: (500, 1), ids: [0 1 2 ... 497 498 499], task_names: [0]>\n"
     ]
    }
   ],
   "source": [
    "import numpy as np\n",
    "import deepchem as dc\n",
    "\n",
    "dataset = dc.data.NumpyDataset(np.random.rand(500, 5))\n",
    "print(dataset)"
   ]
  },
  {
   "cell_type": "code",
   "execution_count": 9,
   "id": "8a495e64",
   "metadata": {},
   "outputs": [],
   "source": [
    "##%%capture\n",
    "##!wget https://raw.githubusercontent.com/deepchem/deepchem/master/datasets/delaney-processed.csv -O delaney-processed.csv \n",
    "# this is how to read csv dataset from link"
   ]
  },
  {
   "cell_type": "code",
   "execution_count": 10,
   "id": "292a2b94",
   "metadata": {},
   "outputs": [
    {
     "name": "stdout",
     "output_type": "stream",
     "text": [
      "Original set of molecules\n",
      "['C1=CC2=C(C=C1)C1=CC=CC=C21', 'O=C1C=CC(=O)C2=C1OC=CO2', 'C1=C[N]C=C1', 'C1=CC=CC=C[C+]1', 'C1=[C]NC=C1', 'N[C@@H](C)C(=O)O', 'N[C@H](C)C(=O)O', 'CC', 'O=C=O', 'C#N', 'CCN(CC)CC', 'CC(=O)O', 'C1CCCCC1', 'c1ccccc1']\n",
      "Training set\n",
      "<NumpyDataset X.shape: (11,), y.shape: (11, 1), w.shape: (11, 1), ids: ['N[C@@H](C)C(=O)O' 'N[C@H](C)C(=O)O' 'CC' ... 'C1CCCCC1' 'C1=[C]NC=C1'\n",
      " 'C1=CC=CC=C[C+]1'], task_names: [0]>\n",
      "Valid set\n",
      "<NumpyDataset X.shape: (1,), y.shape: (1, 1), w.shape: (1, 1), ids: ['C1=C[N]C=C1'], task_names: [0]>\n",
      "Test set\n",
      "<NumpyDataset X.shape: (2,), y.shape: (2, 1), w.shape: (2, 1), ids: ['O=C1C=CC(=O)C2=C1OC=CO2' 'C1=CC2=C(C=C1)C1=CC=CC=C21'], task_names: [0]>\n"
     ]
    }
   ],
   "source": [
    "import numpy as np\n",
    "import deepchem as dc\n",
    "\n",
    "mols = [\n",
    "    'C1=CC2=C(C=C1)C1=CC=CC=C21', 'O=C1C=CC(=O)C2=C1OC=CO2', 'C1=C[N]C=C1',\n",
    "    'C1=CC=CC=C[C+]1', 'C1=[C]NC=C1', 'N[C@@H](C)C(=O)O', 'N[C@H](C)C(=O)O',\n",
    "    'CC', 'O=C=O', 'C#N', 'CCN(CC)CC', 'CC(=O)O', 'C1CCCCC1', 'c1ccccc1'\n",
    "]\n",
    "print(\"Original set of molecules\")\n",
    "print(mols)\n",
    "\n",
    "splitter = dc.splits.ScaffoldSplitter()\n",
    "# This should be swapped for simpler splitter API once that's merged in.\n",
    "dataset = dc.data.NumpyDataset(X=np.array(mols), ids=mols)\n",
    "train, valid, test = splitter.train_valid_test_split(dataset)\n",
    "# The return values are dc.data.Dataset objects so we need to extract\n",
    "# the ids\n",
    "print(\"Training set\")\n",
    "print(train)\n",
    "print(\"Valid set\")\n",
    "print(valid)\n",
    "print(\"Test set\")\n",
    "print(test)"
   ]
  },
  {
   "cell_type": "markdown",
   "id": "68113754",
   "metadata": {},
   "source": [
    "# Split"
   ]
  },
  {
   "cell_type": "code",
   "execution_count": 12,
   "id": "74e51a2e",
   "metadata": {},
   "outputs": [
    {
     "name": "stdout",
     "output_type": "stream",
     "text": [
      "Original set of molecules\n",
      "['C1=CC2=C(C=C1)C1=CC=CC=C21', 'O=C1C=CC(=O)C2=C1OC=CO2', 'C1=C[N]C=C1', 'C1=CC=CC=C[C+]1', 'C1=[C]NC=C1', 'N[C@@H](C)C(=O)O', 'N[C@H](C)C(=O)O', 'CC', 'O=C=O', 'C#N', 'CCN(CC)CC', 'CC(=O)O', 'C1CCCCC1', 'c1ccccc1']\n",
      "Training set\n",
      "['C1=[C]NC=C1' 'CC' 'C#N' 'CC(=O)O' 'C1=CC=CC=C[C+]1' 'N[C@@H](C)C(=O)O'\n",
      " 'N[C@H](C)C(=O)O' 'C1=CC2=C(C=C1)C1=CC=CC=C21' 'C1CCCCC1' 'CCN(CC)CC'\n",
      " 'C1=C[N]C=C1']\n",
      "Valid set\n",
      "['O=C1C=CC(=O)C2=C1OC=CO2']\n",
      "Test set\n",
      "['c1ccccc1' 'O=C=O']\n"
     ]
    }
   ],
   "source": [
    "import deepchem as dc\n",
    "\n",
    "mols = [\n",
    "    'C1=CC2=C(C=C1)C1=CC=CC=C21', 'O=C1C=CC(=O)C2=C1OC=CO2', 'C1=C[N]C=C1',\n",
    "    'C1=CC=CC=C[C+]1', 'C1=[C]NC=C1', 'N[C@@H](C)C(=O)O', 'N[C@H](C)C(=O)O',\n",
    "    'CC', 'O=C=O', 'C#N', 'CCN(CC)CC', 'CC(=O)O', 'C1CCCCC1', 'c1ccccc1'\n",
    "]\n",
    "print(\"Original set of molecules\")\n",
    "print(mols)\n",
    "\n",
    "# once improved splitting API is merged in swap out for simpler\n",
    "# API\n",
    "dataset = dc.data.NumpyDataset(X=mols, ids=mols)\n",
    "splitter = dc.splits.RandomSplitter()\n",
    "train, valid, test = splitter.train_valid_test_split(dataset)\n",
    "# The return values are dc.data.Dataset objects so we need to extract\n",
    "# the ids\n",
    "print(\"Training set\")\n",
    "print(train.ids)\n",
    "print(\"Valid set\")\n",
    "print(valid.ids)\n",
    "print(\"Test set\")\n",
    "print(test.ids)"
   ]
  },
  {
   "cell_type": "code",
   "execution_count": null,
   "id": "5ffab753",
   "metadata": {},
   "outputs": [],
   "source": [
    "import deepchem as dc\n",
    "\n",
    "mols = [\n",
    "    'C1=CC2=C(C=C1)C1=CC=CC=C21', 'O=C1C=CC(=O)C2=C1OC=CO2', 'C1=C[N]C=C1',\n",
    "    'C1=CC=CC=C[C+]1', 'C1=[C]NC=C1', 'N[C@@H](C)C(=O)O', 'N[C@H](C)C(=O)O',\n",
    "    'CC', 'O=C=O', 'C#N', 'CCN(CC)CC', 'CC(=O)O', 'C1CCCCC1', 'c1ccccc1'\n",
    "]\n",
    "print(\"Original set of molecules\")\n",
    "print(mols)\n",
    "\n",
    "# Once improved splitting API is merged in swap to simpler API\n",
    "dataset = dc.data.NumpyDataset(X=mols, ids=mols)\n",
    "splitter = dc.splits.ScaffoldSplitter()\n",
    "train, valid, test = splitter.train_valid_test_split(dataset)\n",
    "# The return values are dc.data.Dataset objects so we need to extract\n",
    "# the ids\n",
    "print(\"Training set\")\n",
    "print(train.ids)\n",
    "print(\"Valid set\")\n",
    "print(valid.ids)\n",
    "print(\"Test set\")\n",
    "print(test.ids)"
   ]
  },
  {
   "cell_type": "code",
   "execution_count": null,
   "id": "c03fb431",
   "metadata": {},
   "outputs": [],
   "source": []
  }
 ],
 "metadata": {
  "kernelspec": {
   "display_name": "Python 3",
   "language": "python",
   "name": "python3"
  },
  "language_info": {
   "codemirror_mode": {
    "name": "ipython",
    "version": 3
   },
   "file_extension": ".py",
   "mimetype": "text/x-python",
   "name": "python",
   "nbconvert_exporter": "python",
   "pygments_lexer": "ipython3",
   "version": "3.8.8"
  }
 },
 "nbformat": 4,
 "nbformat_minor": 5
}
